{
  "nbformat": 4,
  "nbformat_minor": 0,
  "metadata": {
    "colab": {
      "name": "List.ipynb",
      "provenance": [],
      "collapsed_sections": [],
      "authorship_tag": "ABX9TyOcVrreaaXldI8hQDbAuVqt",
      "include_colab_link": true
    },
    "kernelspec": {
      "name": "python3",
      "display_name": "Python 3"
    },
    "language_info": {
      "name": "python"
    }
  },
  "cells": [
    {
      "cell_type": "markdown",
      "metadata": {
        "id": "view-in-github",
        "colab_type": "text"
      },
      "source": [
        "<a href=\"https://colab.research.google.com/github/ninadnikam/Python-Begninng/blob/main/List.ipynb\" target=\"_parent\"><img src=\"https://colab.research.google.com/assets/colab-badge.svg\" alt=\"Open In Colab\"/></a>"
      ]
    },
    {
      "cell_type": "markdown",
      "metadata": {
        "id": "iCLV3CguMQOx"
      },
      "source": [
        "# List\n",
        "\n",
        "1. The most basic data structure in python is **sequence**   \n",
        "2. Each element of sequence is assigned a number its **position is 0, 1**\n",
        "3. Python is having **6** builtin type the most common is list and tuple\n",
        "4. Operation includes **Indexing, Slicing, Adding, Checking, Multiplying**\n",
        "5. Builtin function for finding the **length of sequence** and for finding the **largest and smallest** no of elements\n",
        "6. It is **versatile data type**\n",
        "7. Written is a list and  use comma(,) to separated values brackets [ ].\n",
        "8. In list the item/elements are not be the same type are can use different data type elements.\n",
        "9. Ex. list = [\"Hello\",\"World\",1,2,3,4,2.5,\"b\",\"w\"]\n",
        "\n",
        "\n",
        "\n",
        "\n",
        "\n",
        "\n",
        "\n",
        "\n",
        "\n",
        "\n",
        "\n",
        "\n",
        "\n",
        "\n",
        "\n",
        "\n"
      ]
    },
    {
      "cell_type": "code",
      "metadata": {
        "colab": {
          "base_uri": "https://localhost:8080/"
        },
        "id": "M4_jJJBaMLV3",
        "outputId": "0b315af9-f340-4f93-c908-268bc1203989"
      },
      "source": [
        "#List program\n",
        "\n",
        "list = [\"Hello\",\"World\",1,2,3,2,4,2.5,\"b\",\"w\",\"w\"]\n",
        "list1=[1,2,3,4,2.5]\n",
        "\n",
        "print(len(list))\n",
        "print(max(list1))\n",
        "print(min(list1))\n",
        "list.append(\"Mohini\")\n",
        "print(list)\n",
        "list.count(2)\n",
        "list.extend(list1)\n",
        "print(list) #extend\n",
        "print(list.index(3))\n",
        "\n",
        "\n",
        "\n",
        "\n"
      ],
      "execution_count": 33,
      "outputs": [
        {
          "output_type": "stream",
          "text": [
            "11\n",
            "4\n",
            "1\n",
            "['Hello', 'World', 1, 2, 3, 2, 4, 2.5, 'b', 'w', 'w', 'Mohini']\n",
            "['Hello', 'World', 1, 2, 3, 2, 4, 2.5, 'b', 'w', 'w', 'Mohini', 1, 2, 3, 4, 2.5]\n",
            "4\n"
          ],
          "name": "stdout"
        }
      ]
    }
  ]
}