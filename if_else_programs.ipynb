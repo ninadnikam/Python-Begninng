{
  "nbformat": 4,
  "nbformat_minor": 0,
  "metadata": {
    "colab": {
      "name": "if-else-programs.ipynb",
      "provenance": [],
      "collapsed_sections": [],
      "authorship_tag": "ABX9TyPv6LJ9D5XUsJL5nXBR+/Dv",
      "include_colab_link": true
    },
    "kernelspec": {
      "name": "python3",
      "display_name": "Python 3"
    },
    "language_info": {
      "name": "python"
    }
  },
  "cells": [
    {
      "cell_type": "markdown",
      "metadata": {
        "id": "view-in-github",
        "colab_type": "text"
      },
      "source": [
        "<a href=\"https://colab.research.google.com/github/ninadnikam/Python-Begninng/blob/main/if_else_programs.ipynb\" target=\"_parent\"><img src=\"https://colab.research.google.com/assets/colab-badge.svg\" alt=\"Open In Colab\"/></a>"
      ]
    },
    {
      "cell_type": "markdown",
      "metadata": {
        "id": "MLGcSEFVBirZ"
      },
      "source": [
        "1. Decision making is anticipation of condition occuring during th execution of a program and specified action taken accordion to conditions\n",
        "2. Decision structure evaluation multiple expression to produce **True/false**  outcome\n",
        "3. python programming language assumes an non-zero and non-null values are **true**\n",
        "4. any zero/null values are false\n",
        "eg. non-zero ->. 1,2,3,\n",
        "non-null --> [1],\n",
        "zero-> 0,\n",
        "null->[\" \"],\n",
        "\n",
        "\n",
        "\n"
      ]
    },
    {
      "cell_type": "code",
      "metadata": {
        "colab": {
          "base_uri": "https://localhost:8080/"
        },
        "id": "kNHPGFEMBZ3B",
        "outputId": "0f4aff26-5891-4639-a85c-577e8b96110c"
      },
      "source": [
        "#1. If statements\n",
        "\n",
        "#if experession:\n",
        "#   statment() ---> block of the statement\n",
        "\n",
        "var1 = 100\n",
        "if (var1):\n",
        "  print(\"The number is non zero\",var1)\n",
        "\n",
        "print(\"----------------------------------------------\")\n",
        "#2. if-else statements\n",
        "\n",
        "#if expression:\n",
        "#   statement()\n",
        "#else:\n",
        "#    statement()\n",
        "\n",
        "value = int(input(\"Enter the age:\"))\n",
        "\n",
        "if value > 21:\n",
        "  print(\"your ready for vote, because your age is above 21\")\n",
        "else:\n",
        "  print(\"oops...!!your not ready for vote\")\n",
        "\n",
        "print(\"----------------------------------------------\")\n",
        "\n",
        "\n",
        "#elif statment - the elif statement allows to check the multiple expression for true and excute the block of code as soon as one condition is evalutes true\n",
        "\n",
        "value = int(input(\"Enter your marks:\"))\n",
        "\n",
        "if value < 50:\n",
        "  print(\"Opps..!! Your getting second class\")\n",
        "elif value < 70:\n",
        "  print(\"Good..!! Your getting First class\")\n",
        "else:\n",
        "  print(\"Congratulations..!! Your in Distinction...!!! Hurry..\")\n",
        "\n",
        "print(\"---------------------------------------------------------\")\n",
        "\n",
        "#nested if elif statment - any situation want to scheck another conditions after a condition is resolve to true \n",
        "#so here we take bank ATM example\n",
        "\n",
        "\n",
        "\n",
        "\n"
      ],
      "execution_count": 3,
      "outputs": [
        {
          "output_type": "stream",
          "text": [
            "The number is non zero 100\n",
            "----------------------------------------------\n",
            "Enter the age:12\n",
            "oops...!!your not ready for vote\n",
            "----------------------------------------------\n",
            "Enter your marks:12\n",
            "Opps..!! Your getting second class\n",
            "---------------------------------------------------------\n"
          ],
          "name": "stdout"
        }
      ]
    },
    {
      "cell_type": "code",
      "metadata": {
        "id": "BUPtoIKYLWjI"
      },
      "source": [
        "\n",
        "\n",
        "# Account = (input(\"Select your Account type:\"))\n",
        "# Action = (input(\"Select your action:\"))\n",
        "# Amount = int(input(\"Enter your amount\"))\n",
        "\n",
        "\n",
        "if (input(\"Enter your ATM pin:\")) == \"1234\":\n",
        "    if (input(\"Select your language:\")) == \"english\":\n",
        "      if (input(\"select your accoutn type:\")) == \"current\":\n",
        "        if (input(\"Select your action:\")) == \"withdraw\":\n",
        "          if  ( int (input(\"Enter your amout:\")) < 100):\n",
        "             print(\"oops... Withdraw cancle\")\n",
        "          else:\n",
        "              print(\"withdraw your cash\")\n",
        "        elif (input(\"select your action\")) == \"balance check\":\n",
        "          print(\"your saving amount is:45000\")\n",
        "        else:\n",
        "          print(\"account type is invalid\")\n",
        "    else:\n",
        "      print(\"language  is invalid\")\n",
        "else:\n",
        "    print(\"password incorrect\")\n",
        "\n"
      ],
      "execution_count": null,
      "outputs": []
    }
  ]
}