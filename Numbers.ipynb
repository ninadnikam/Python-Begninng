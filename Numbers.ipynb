{
  "nbformat": 4,
  "nbformat_minor": 0,
  "metadata": {
    "colab": {
      "name": "Numbers.ipynb",
      "provenance": [],
      "collapsed_sections": [],
      "authorship_tag": "ABX9TyNwLnT1Vf4zahVsfDZSvqnm",
      "include_colab_link": true
    },
    "kernelspec": {
      "name": "python3",
      "display_name": "Python 3"
    },
    "language_info": {
      "name": "python"
    }
  },
  "cells": [
    {
      "cell_type": "markdown",
      "metadata": {
        "id": "view-in-github",
        "colab_type": "text"
      },
      "source": [
        "<a href=\"https://colab.research.google.com/github/ninadnikam/Python-Begninng/blob/main/Numbers.ipynb\" target=\"_parent\"><img src=\"https://colab.research.google.com/assets/colab-badge.svg\" alt=\"Open In Colab\"/></a>"
      ]
    },
    {
      "cell_type": "markdown",
      "metadata": {
        "id": "eHIrKThqwcWa"
      },
      "source": [
        "1.   Number data type store numeric values\n",
        "2.   They are immutable data types means changing the value of numbers data type result in newly allocated objects\n",
        "3. Python supports different numerical types of data\n",
        "  int (signed integer), float, complex\n",
        "\n",
        "  \n",
        "\n"
      ]
    },
    {
      "cell_type": "code",
      "metadata": {
        "colab": {
          "base_uri": "https://localhost:8080/"
        },
        "id": "66JlUPj_wA38",
        "outputId": "2879ff84-cb2c-49b5-d9d7-3db12c51460a"
      },
      "source": [
        "#Mathematical Functions\n",
        "\n",
        "import math\n",
        "x = -10\n",
        "y = 20\n",
        "print(abs(x))\n",
        "print(float(x))\n",
        "print(math.ceil(45.1))\n",
        "print(math.exp(20))\n",
        "print(math.fabs(5.5))\n",
        "print(math.log(2))\n",
        "print(math.log10(2))\n",
        "print(max(1,2,3.01))\n",
        "print(min(1,1.0,1.01))\n",
        "print(pow(100,2))\n"
      ],
      "execution_count": null,
      "outputs": [
        {
          "output_type": "stream",
          "text": [
            "10\n",
            "-10.0\n",
            "46\n",
            "485165195.4097903\n",
            "5.5\n",
            "0.6931471805599453\n",
            "0.3010299956639812\n",
            "3.01\n",
            "1\n",
            "10000\n"
          ],
          "name": "stdout"
        },
        {
          "output_type": "execute_result",
          "data": {
            "text/plain": [
              "36"
            ]
          },
          "metadata": {
            "tags": []
          },
          "execution_count": 34
        }
      ]
    },
    {
      "cell_type": "code",
      "metadata": {
        "colab": {
          "base_uri": "https://localhost:8080/"
        },
        "id": "1EjX6uXL798e",
        "outputId": "65c3beff-cb14-411a-d6a7-c4b9db82b42e"
      },
      "source": [
        "import random #choice random item form list, tuples or string\n",
        "# random.choice(range(100))\n",
        "# print(a)\n",
        "\n",
        "#lets play the game of dice\n",
        "a = random.choice(range(1,7))\n",
        "b = random.choice(range(1,7))\n",
        "if a != b:\n",
        "  print(\"Try Again\")\n",
        "else:\n",
        "  print(a,\"=\",b)\n",
        "  print(\"Bravooo!!!\")"
      ],
      "execution_count": null,
      "outputs": [
        {
          "output_type": "stream",
          "text": [
            "5 = 5\n",
            "Bravooo!!!\n"
          ],
          "name": "stdout"
        }
      ]
    },
    {
      "cell_type": "code",
      "metadata": {
        "colab": {
          "base_uri": "https://localhost:8080/"
        },
        "id": "so3kzyxl9RIg",
        "outputId": "5c35ba50-622d-4a72-e447-f257ac12e2d7"
      },
      "source": [
        "#stone paper scissor game\n",
        "import random\n",
        "list1 = ['stone', 'paper', 'scissor']\n",
        "list2 = ['stone', 'paper', 'scissor']\n",
        "a = random.choice(list1)\n",
        "b = random.choice(list2)\n",
        "\n",
        "if list1 != list2:\n",
        "  print(\"once again\")\n",
        "else: \n",
        "  print(\"bravoo!\")\n",
        "\n",
        "print(list1)\n",
        "print(list2)"
      ],
      "execution_count": null,
      "outputs": [
        {
          "output_type": "stream",
          "text": [
            "bravoo!\n",
            "['stone', 'paper', 'scissor']\n",
            "['stone', 'paper', 'scissor']\n"
          ],
          "name": "stdout"
        }
      ]
    },
    {
      "cell_type": "code",
      "metadata": {
        "colab": {
          "base_uri": "https://localhost:8080/"
        },
        "id": "RrHvtImbdNmu",
        "outputId": "c79e5da9-b6e3-45e1-e261-981157c250e0"
      },
      "source": [
        "x = ['a','b,','c','A','B','C']\n",
        "x.sort()\n",
        "print(x)"
      ],
      "execution_count": null,
      "outputs": [
        {
          "output_type": "stream",
          "text": [
            "['A', 'B', 'C', 'a', 'b,', 'c']\n"
          ],
          "name": "stdout"
        }
      ]
    },
    {
      "cell_type": "code",
      "metadata": {
        "colab": {
          "base_uri": "https://localhost:8080/"
        },
        "id": "GFwsJCs6raHd",
        "outputId": "61af8657-0566-446e-c4bd-6e8dfea479ce"
      },
      "source": [
        "list = [True, 50, 10]\n",
        "list.insert(2,5)\n",
        "print(list)"
      ],
      "execution_count": null,
      "outputs": [
        {
          "output_type": "stream",
          "text": [
            "[True, 50, 5, 10]\n"
          ],
          "name": "stdout"
        }
      ]
    },
    {
      "cell_type": "code",
      "metadata": {
        "colab": {
          "base_uri": "https://localhost:8080/"
        },
        "id": "TZppgVbRR4YD",
        "outputId": "49ea390a-d8c4-4718-fa93-6ba990c8ba10"
      },
      "source": [
        "import random\n",
        "\n",
        "list1 = [1,2,3,4,5,6,7,8,9,10]\n",
        "\n",
        "for x in range(5):\n",
        "  print(random.choice(list1))"
      ],
      "execution_count": 105,
      "outputs": [
        {
          "output_type": "stream",
          "text": [
            "10\n",
            "3\n",
            "5\n",
            "4\n",
            "8\n"
          ],
          "name": "stdout"
        }
      ]
    },
    {
      "cell_type": "code",
      "metadata": {
        "colab": {
          "base_uri": "https://localhost:8080/"
        },
        "id": "zgWiYF9VXk5u",
        "outputId": "c47cd64e-c2db-4128-8b9b-201aa36edbf3"
      },
      "source": [
        "import random\n",
        "\n",
        "\n",
        "a = random.choice(range(999999))\n",
        "print(a)\n",
        "\n",
        "\n",
        "list = []\n",
        "c = list.append(a)\n",
        "print(list)\n"
      ],
      "execution_count": 149,
      "outputs": [
        {
          "output_type": "stream",
          "text": [
            "253919\n",
            "[253919]\n"
          ],
          "name": "stdout"
        }
      ]
    },
    {
      "cell_type": "markdown",
      "metadata": {
        "id": "p3t1Td-Ya4QK"
      },
      "source": [
        "**here is the program to take the  data from random choice and stored into the list for every iterations.**\n",
        "** xzI think here have to use the def function**\n",
        "\n",
        "\n",
        "\n"
      ]
    },
    {
      "cell_type": "code",
      "metadata": {
        "colab": {
          "base_uri": "https://localhost:8080/"
        },
        "id": "h4Poutn4SV-A",
        "outputId": "c9895752-7d46-4a2c-98cf-7698e5e17f69"
      },
      "source": [
        "import random\n",
        "\n",
        "list1 = [1,2,3,4,5]\n",
        "\n",
        "count = 0\n",
        "count+= 1\n",
        "\n",
        "if random.shuffle(list1) == list1:\n",
        "  print(\"Matched\")\n",
        "\n",
        "else:\n",
        "    print(\"Not matched\")  \n",
        "    print(list1)\n",
        "\n",
        "\n",
        "  \n"
      ],
      "execution_count": 103,
      "outputs": [
        {
          "output_type": "stream",
          "text": [
            "Not matched\n",
            "[2, 1, 3, 5, 4]\n",
            "0.3078067547337774\n"
          ],
          "name": "stdout"
        }
      ]
    }
  ]
}