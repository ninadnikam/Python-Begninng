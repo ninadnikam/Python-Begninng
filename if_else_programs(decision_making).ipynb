{
  "nbformat": 4,
  "nbformat_minor": 0,
  "metadata": {
    "colab": {
      "name": "if-else-programs.ipynb",
      "provenance": [],
      "collapsed_sections": [],
      "authorship_tag": "ABX9TyOs8nSOJrCzwrKaoPtg8NyJ",
      "include_colab_link": true
    },
    "kernelspec": {
      "name": "python3",
      "display_name": "Python 3"
    },
    "language_info": {
      "name": "python"
    }
  },
  "cells": [
    {
      "cell_type": "markdown",
      "metadata": {
        "id": "view-in-github",
        "colab_type": "text"
      },
      "source": [
        "<a href=\"https://colab.research.google.com/github/ninadnikam/Python-Begninng/blob/main/if_else_programs(decision_making).ipynb\" target=\"_parent\"><img src=\"https://colab.research.google.com/assets/colab-badge.svg\" alt=\"Open In Colab\"/></a>"
      ]
    },
    {
      "cell_type": "markdown",
      "metadata": {
        "id": "MLGcSEFVBirZ"
      },
      "source": [
        "1. Decision making is anticipation of condition occuring during th execution of a program and specified action taken accordion to conditions\n",
        "2. Decision structure evaluation multiple expression to produce **True/false**  outcome\n",
        "3. python programming language assumes an non-zero and non-null values are **true**\n",
        "4. any zero/null values are false\n",
        "eg. non-zero ->. 1,2,3,\n",
        "non-null --> [1],\n",
        "zero-> 0,\n",
        "null->[\" \"],\n",
        "\n",
        "\n",
        "\n"
      ]
    },
    {
      "cell_type": "code",
      "metadata": {
        "colab": {
          "base_uri": "https://localhost:8080/"
        },
        "id": "kNHPGFEMBZ3B",
        "outputId": "56d6baa0-0c4d-49f9-b414-f0c6c486c08a"
      },
      "source": [
        "#1. If statements\n",
        "\n",
        "#if experession:\n",
        "#   statment() ---> block of the statement\n",
        "\n",
        "var1 = 100\n",
        "if (var1):\n",
        "  print(\"The number is non zero\",var1)\n",
        "\n",
        "print(\"----------------------------------------------\")\n",
        "#2. if-else statements\n",
        "\n",
        "#if expression:\n",
        "#   statement()\n",
        "#else:\n",
        "#    statement()\n",
        "\n",
        "value = int(input(\"Enter the age:\"))\n",
        "\n",
        "if value > 21:\n",
        "  print(\"your ready for vote, because your age is above 21\")\n",
        "else:\n",
        "  print(\"oops...!!your not ready for vote\")\n",
        "\n",
        "print(\"----------------------------------------------\")\n",
        "\n",
        "\n",
        "#elif statment - the elif statement allows to check the multiple expression for true and excute the block of code as soon as one condition is evalutes true\n",
        "\n",
        "value = int(input(\"Enter your marks:\"))\n",
        "\n",
        "if value < 50:\n",
        "  print(\"Opps..!! Your getting second class\")\n",
        "elif value < 70:\n",
        "  print(\"Good..!! Your getting First class\")\n",
        "else:\n",
        "  print(\"Congratulations..!! Your in Distinction...!!! Hurry..\")\n"
      ],
      "execution_count": 15,
      "outputs": [
        {
          "output_type": "stream",
          "text": [
            "The number is non zero 100\n",
            "----------------------------------------------\n",
            "Enter the age:44\n",
            "your ready for vote, because your age is above 21\n",
            "----------------------------------------------\n",
            "Enter your marks:99\n",
            "Congratulations..!! Your in Distinction...!!! Hurry..\n"
          ],
          "name": "stdout"
        }
      ]
    }
  ]
}