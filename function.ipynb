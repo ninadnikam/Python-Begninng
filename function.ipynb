{
  "nbformat": 4,
  "nbformat_minor": 0,
  "metadata": {
    "colab": {
      "name": "function.ipynb",
      "provenance": [],
      "collapsed_sections": [],
      "authorship_tag": "ABX9TyNXpPysQqDtnRRI0A0rfBfC",
      "include_colab_link": true
    },
    "kernelspec": {
      "name": "python3",
      "display_name": "Python 3"
    },
    "language_info": {
      "name": "python"
    }
  },
  "cells": [
    {
      "cell_type": "markdown",
      "metadata": {
        "id": "view-in-github",
        "colab_type": "text"
      },
      "source": [
        "<a href=\"https://colab.research.google.com/github/ninadnikam/Python-Begninng/blob/main/function.ipynb\" target=\"_parent\"><img src=\"https://colab.research.google.com/assets/colab-badge.svg\" alt=\"Open In Colab\"/></a>"
      ]
    },
    {
      "cell_type": "markdown",
      "metadata": {
        "id": "5TcyRN2n_IP_"
      },
      "source": [
        "To define function use\n",
        "def function name (parameters):\n",
        "\n",
        "Types of functions\n",
        "1. default function\n",
        "2. parameterize / required argument\n",
        "3. keyword argument\n",
        "4. default argument function\n",
        "5. variable argument function"
      ]
    },
    {
      "cell_type": "code",
      "metadata": {
        "colab": {
          "base_uri": "https://localhost:8080/",
          "height": 34
        },
        "id": "O2h__aD1-fLI",
        "outputId": "6b574c6e-1a57-47f6-8039-4915f3366657"
      },
      "source": [
        "#default function\n",
        "\n",
        "def hello():\n",
        "  return \"hello\"\n",
        "\n",
        "hello()\n"
      ],
      "execution_count": 4,
      "outputs": [
        {
          "output_type": "execute_result",
          "data": {
            "application/vnd.google.colaboratory.intrinsic+json": {
              "type": "string"
            },
            "text/plain": [
              "'hello'"
            ]
          },
          "metadata": {},
          "execution_count": 4
        }
      ]
    },
    {
      "cell_type": "code",
      "metadata": {
        "colab": {
          "base_uri": "https://localhost:8080/"
        },
        "id": "FSVIM12TBl21",
        "outputId": "b69639ae-195c-427a-9363-a4d49c11b3cc"
      },
      "source": [
        "#parameterize / required argument\n",
        "\n",
        "def add(a,b):\n",
        "  x = a+b\n",
        "  return x\n",
        "\n",
        "total = add(30,20)\n",
        "print(total)"
      ],
      "execution_count": 5,
      "outputs": [
        {
          "output_type": "stream",
          "name": "stdout",
          "text": [
            "50\n"
          ]
        }
      ]
    },
    {
      "cell_type": "code",
      "metadata": {
        "colab": {
          "base_uri": "https://localhost:8080/"
        },
        "id": "J97Xi_x1BpBm",
        "outputId": "f34b1905-f86c-46cc-cffd-c2a8578cba96"
      },
      "source": [
        "#keyword argument\n",
        "\n",
        "def student (name=\"Alex\"):  #set key and value\n",
        "  return name\n",
        "\n",
        "print(student())"
      ],
      "execution_count": 9,
      "outputs": [
        {
          "output_type": "stream",
          "name": "stdout",
          "text": [
            "Alex\n"
          ]
        }
      ]
    },
    {
      "cell_type": "code",
      "metadata": {
        "colab": {
          "base_uri": "https://localhost:8080/"
        },
        "id": "mfZkWC4kCGXm",
        "outputId": "5a8d65ca-db05-4152-f769-a1d4e507ae68"
      },
      "source": [
        "#default argument function\n",
        "\n",
        "def student (rno, name=\"Alex\"):\n",
        "  print(rno)\n",
        "  print(name)\n",
        "\n",
        "student (10,\"Sam\")\n",
        "student(10)\n",
        "\n",
        "\n"
      ],
      "execution_count": 18,
      "outputs": [
        {
          "output_type": "stream",
          "name": "stdout",
          "text": [
            "10\n",
            "Sam\n",
            "10\n",
            "Alex\n"
          ]
        }
      ]
    },
    {
      "cell_type": "code",
      "metadata": {
        "colab": {
          "base_uri": "https://localhost:8080/",
          "height": 127
        },
        "id": "UC4bMJYcDVWw",
        "outputId": "8f3ae063-6ccc-4265-b063-9392b7a3d89f"
      },
      "source": [
        "#variable arugment function / overloading\n",
        "\n",
        "def printvalue (x,*var):\n",
        "    print(x)\n",
        "        for v in var:\n",
        "            print(v)\n",
        "\n",
        "print printvalue(20)\n",
        "l = [20,30,40]\n",
        "print(l)"
      ],
      "execution_count": 29,
      "outputs": [
        {
          "output_type": "error",
          "ename": "IndentationError",
          "evalue": "ignored",
          "traceback": [
            "\u001b[0;36m  File \u001b[0;32m\"<ipython-input-29-af22d2f5cc90>\"\u001b[0;36m, line \u001b[0;32m5\u001b[0m\n\u001b[0;31m    for v in var:\u001b[0m\n\u001b[0m    ^\u001b[0m\n\u001b[0;31mIndentationError\u001b[0m\u001b[0;31m:\u001b[0m unexpected indent\n"
          ]
        }
      ]
    },
    {
      "cell_type": "markdown",
      "metadata": {
        "id": "dTwF9e0CFnmE"
      },
      "source": [
        "**A Lambda Function in Python programming is an anonymous function or a function having no name. It is a small and restricted function having no more than one line. Just like a normal function, a Lambda function can have multiple arguments with one expression**"
      ]
    },
    {
      "cell_type": "code",
      "metadata": {
        "colab": {
          "base_uri": "https://localhost:8080/"
        },
        "id": "4MCzpwx-E_6W",
        "outputId": "3186e5d0-7a08-4b6b-9210-a76ffa42a7e4"
      },
      "source": [
        "total =  lambda a,b:a+b\n",
        "print(total(3,2))\n",
        "\n",
        "add = lambda a,b:a*b     #a,b is define the variable and a*b is expression\n",
        "print(add(2,5))   #give the value to the defined variables"
      ],
      "execution_count": 38,
      "outputs": [
        {
          "output_type": "stream",
          "name": "stdout",
          "text": [
            "5\n",
            "10\n"
          ]
        }
      ]
    }
  ]
}