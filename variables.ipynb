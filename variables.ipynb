{
  "nbformat": 4,
  "nbformat_minor": 0,
  "metadata": {
    "colab": {
      "name": "variables.ipynb",
      "provenance": [],
      "collapsed_sections": [],
      "authorship_tag": "ABX9TyOr75xIGqEXyJvvCPwNrPg3",
      "include_colab_link": true
    },
    "kernelspec": {
      "name": "python3",
      "display_name": "Python 3"
    },
    "language_info": {
      "name": "python"
    }
  },
  "cells": [
    {
      "cell_type": "markdown",
      "metadata": {
        "id": "view-in-github",
        "colab_type": "text"
      },
      "source": [
        "<a href=\"https://colab.research.google.com/github/ninadnikam/Python-Begninng/blob/main/variables.ipynb\" target=\"_parent\"><img src=\"https://colab.research.google.com/assets/colab-badge.svg\" alt=\"Open In Colab\"/></a>"
      ]
    },
    {
      "cell_type": "code",
      "metadata": {
        "id": "LV97avicPwAW",
        "colab": {
          "base_uri": "https://localhost:8080/"
        },
        "outputId": "afd26f5c-384d-43a1-ed3e-895f57c555dc"
      },
      "source": [
        " #variables\n",
        "\n",
        "a = 10\n",
        "\n",
        "#a is operand\n",
        "#+ is operator\n",
        "#10 is value\n",
        "print(a)\n",
        "\n",
        "a = b = c = 10 #assigned same value to all the variables (multiple variable with single value)\n",
        "print(a,b,c)\n",
        "\n",
        "a,b,c = 1,2,\"future\" #assigned a values to the 3 variables (multiple assignment)\n",
        "print(a,b,c)\n",
        "print(a)\n",
        "print(b)\n",
        "print(c)\n",
        "\n",
        "#as per the variables reserved memory to the value is allocated\n"
      ],
      "execution_count": null,
      "outputs": [
        {
          "output_type": "stream",
          "text": [
            "10\n",
            "10 10 10\n",
            "1 2 future\n",
            "1\n",
            "2\n",
            "future\n"
          ],
          "name": "stdout"
        }
      ]
    },
    {
      "cell_type": "code",
      "metadata": {
        "colab": {
          "base_uri": "https://localhost:8080/"
        },
        "id": "CKPeylVmPTGL",
        "outputId": "29667328-8991-4c83-c18c-c19f35f2afd2"
      },
      "source": [
        "#standard data type\n",
        "\n",
        "#1-number : Store the numeric value\n",
        "\n",
        "#int numerical type\n",
        "a = 10\n",
        "print(a)\n",
        "\n",
        "#float numerical type\n",
        "b= 10.158\n",
        "print(b)\n",
        "\n",
        "#complex no numercial type\n",
        "# a complex number consists of an ordered pair of rel floating point number denoted by x+yj, here x an y is real no and j is imaginary unit\n",
        "c= 3.014j\n",
        "print(c)"
      ],
      "execution_count": null,
      "outputs": [
        {
          "output_type": "stream",
          "text": [
            "10\n",
            "10.158\n",
            "3.014j\n"
          ],
          "name": "stdout"
        }
      ]
    },
    {
      "cell_type": "code",
      "metadata": {
        "colab": {
          "base_uri": "https://localhost:8080/"
        },
        "id": "xA39awrXRDQj",
        "outputId": "9af78c78-3e26-4226-82ea-0a4a2648b6f0"
      },
      "source": [
        "#2-string\n",
        "#indexing start at 0 (from first char) in the beginning(forward) and indexing backward by -1 (from last char)\n",
        "#subset of string can be taken using the slice operator ([] & [:])\n",
        "\n",
        "a= \"Hello Future\"\n",
        "#   so here the indexing from the 0 means \"H\" indexing is 0 total indexing value is 11 till \"e\"\n",
        "print(a) #print a string\n",
        "print(a[0]) #showing 0th indexing char\n",
        "print(a[10]) #showing 10th indexing char\n",
        "print(a[2:4]) #slicing of the string - 2 means 2nd indexing start char and 4th indexing means to show befor the 4th indexing char i.e l\n",
        "print(a[2:]) #showing the string from 2nd indexing to till end on after slicing it did not given the no\n",
        "print(a * 5) # * (astrisk) is say to show multiple of same variable string as per the no given wise\n",
        "print(a + \" How's you doing?\") # + sign says to concatenate the second word or string with given variable\n",
        "print(a[-1]) # - sing says the last indexing of the string i.e e of (future) it say return, \n",
        "print(a[-4:]) #showig till -4 indexing from -1 indexing char, the right side \":\" decide to show char from last / right to left\n",
        "print(a[:-4]) #showing till -4 indexing from first char left to right\n",
        "print(a[-10:-3]) #showing from -10 index to till befor the -3 indexing char (i.e: llo Fut) left fo right\n",
        "print(a[-5:-10]) #showing no output - because for reverse (from right to left) did not happen\n"
      ],
      "execution_count": null,
      "outputs": [
        {
          "output_type": "stream",
          "text": [
            "Hello Future\n",
            "H\n",
            "r\n",
            "ll\n",
            "llo Future\n",
            "Hello FutureHello FutureHello FutureHello FutureHello Future\n",
            "Hello Future How's you doing?\n",
            "e\n",
            "ture\n",
            "Hello Fu\n",
            "llo Fut\n",
            "\n"
          ],
          "name": "stdout"
        }
      ]
    },
    {
      "cell_type": "code",
      "metadata": {
        "colab": {
          "base_uri": "https://localhost:8080/"
        },
        "id": "cQx8TRMAjgh4",
        "outputId": "3f0ae384-658d-4145-fb57-e9555caae075"
      },
      "source": [
        "#list\n",
        "#list is most versatile of python compound data type\n",
        "#they are no all having the same data type\n",
        "#list contain items separated by commas and enclosed in square\n",
        "#A list can contain a mix of different types of variables:\n",
        "#the value store in list can be accessed by using the slice oprator []&[:] with index starting of 0\n",
        "#data are changed/update in list\n",
        "\n",
        "a=[1,2,3,'Future']\n",
        "b=[1,2.3,'Hello Future','version','cheers']\n",
        "c=[1,3,8,9,4,5,4,2,10,7,6]\n",
        "\n",
        "print(a) #output is whole list\n",
        "print(b) #output is whole list\n",
        "print(a[0]) #output is 0th index value from a list\n",
        "print(b[1]) #output is 1th index value from b list\n",
        "print(b[:2]) #given right side : says shown value from  till 2nd index of before 2nd index\n",
        "print(b[1:]) #given left side : says shown value from start 2nd index to till last\n",
        "print(b[1:3]) #shown result from 1st index of value to till 2nd index of value not 3rd index value\n",
        "print(a[-1]) #shown last value from list\n",
        "print(a[-2:])#shown till -2 index value\n",
        "print(b[-4:-2])#shown from -4 index and -3\n",
        "\n",
        "print(len(a)) #show total count of data from list\n",
        "print(len(b))\n",
        "print(sorted(c)) #show sorted data form list\n",
        "print(max(c)) #show max value\n",
        "print(min(c)) #show min valu\n",
        "print(sum(c)) #toatl addition\n",
        "\n",
        "#list is having there own fundtion like (append, pop, index, insert, remove, clear, count, sort, reverse, copy)\n",
        "\n",
        "a.append(\"Welcome\") #add a item at the end of the list\n",
        "a.insert(5,\"Folks\") #add a item at the given position of the list in the insert function indexing is not use\n",
        "a.insert(6,\"Version\") #add one more data at the 6th position\n",
        "a.pop(6) #pop means remove the data from list at any position\n",
        "\n",
        "print(a)\n",
        "b.remove('version') #remove the data from list you can remove any name of data using there name in function\n",
        "print(b)\n",
        "c.count('1') #function is use to check the number of times data appear in list\n",
        "\n",
        "c.sort() #use to sort the list  of data in acending or decending order\n",
        "c.reverse() #function is use to reverse the list of data\n",
        "\n",
        "print(c)\n",
        "\n"
      ],
      "execution_count": null,
      "outputs": [
        {
          "output_type": "stream",
          "text": [
            "[1, 2, 3, 'Future']\n",
            "[1, 2.3, 'Hello Future', 'version', 'cheers']\n",
            "1\n",
            "2.3\n",
            "[1, 2.3]\n",
            "[2.3, 'Hello Future', 'version', 'cheers']\n",
            "[2.3, 'Hello Future']\n",
            "Future\n",
            "[3, 'Future']\n",
            "[2.3, 'Hello Future']\n",
            "4\n",
            "5\n",
            "[1, 2, 3, 4, 4, 5, 6, 7, 8, 9, 10]\n",
            "10\n",
            "1\n",
            "59\n",
            "[1, 2, 3, 'Future', 'Welcome', 'Folks']\n",
            "[1, 2.3, 'Hello Future', 'cheers']\n",
            "[10, 9, 8, 7, 6, 5, 4, 4, 3, 2, 1]\n"
          ],
          "name": "stdout"
        }
      ]
    },
    {
      "cell_type": "code",
      "metadata": {
        "id": "nUa5_AumRE0l",
        "colab": {
          "base_uri": "https://localhost:8080/"
        },
        "outputId": "7f77854a-2928-4bd0-97f2-bb94d783d54f"
      },
      "source": [
        "#tuples\n",
        "#tuples are similar to the list\n",
        "#tuples are enclosed in  paranthesis ()\n",
        "#data are not changed/update in tuple\n",
        "#read-only type\n",
        "\n",
        "a=(1,2,3.0,4.56,'Hello','Future')\n",
        "print(a)\n",
        "a[4] #show the 4th index value \n",
        "#all the slicing are use in tuple as same as list"
      ],
      "execution_count": null,
      "outputs": [
        {
          "output_type": "stream",
          "text": [
            "(1, 2, 3.0, 4.56, 'Hello', 'Future')\n"
          ],
          "name": "stdout"
        },
        {
          "output_type": "execute_result",
          "data": {
            "text/plain": [
              "(1, 2)"
            ]
          },
          "metadata": {
            "tags": []
          },
          "execution_count": 52
        }
      ]
    },
    {
      "cell_type": "code",
      "metadata": {
        "colab": {
          "base_uri": "https://localhost:8080/"
        },
        "id": "nsdlb29jstcj",
        "outputId": "79b91112-b939-40ea-8e4e-9864abd0e517"
      },
      "source": [
        "#dictionary\n",
        "#dictionary are as associative array\n",
        "#dictionayr are store data by index with keys \n",
        "#dictionary have no concept of order, among the elements it is incorrect to sa that the elements are \"out of order\"\n",
        "#they are simply unordered because values of dictionary can be any python data type.unordered keyvalue pair.\n",
        "#dictionary dont support sequence operation of sequenc data type like string tuples and lists\n",
        "\n",
        "dic={1:'Hello',2:'future'} #add the data with index and key\n",
        "print(dic) #show the dictionary\n",
        "dic[1] #show the value of 1(key) i.e(hello)\n",
        "dic[2]\n",
        "dic[1]\n",
        "print(dic.keys())\n",
        "print(dic.values())\n",
        "print(tuple(dic))\n",
        "print(list(dic))\n",
        "dict(dic)\n",
        "#dictinary is having the looping techniques, i.e items(), enumerate(),zip(), reversed()"
      ],
      "execution_count": 14,
      "outputs": [
        {
          "output_type": "stream",
          "text": [
            "{1: 'Hello', 2: 'future'}\n",
            "dict_keys([1, 2])\n",
            "dict_values(['Hello', 'future'])\n",
            "(1, 2)\n",
            "[1, 2]\n"
          ],
          "name": "stdout"
        },
        {
          "output_type": "execute_result",
          "data": {
            "text/plain": [
              "{1: 'Hello', 2: 'future'}"
            ]
          },
          "metadata": {
            "tags": []
          },
          "execution_count": 14
        }
      ]
    },
    {
      "cell_type": "markdown",
      "metadata": {
        "id": "VFEjaz6djn2q"
      },
      "source": [
        ""
      ]
    }
  ]
}