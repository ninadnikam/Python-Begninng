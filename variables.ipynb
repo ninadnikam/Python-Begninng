{
  "nbformat": 4,
  "nbformat_minor": 0,
  "metadata": {
    "colab": {
      "name": "variables.ipynb",
      "provenance": [],
      "collapsed_sections": [],
      "authorship_tag": "ABX9TyNiIQVhi7/xd5mRtdEVgtaw",
      "include_colab_link": true
    },
    "kernelspec": {
      "name": "python3",
      "display_name": "Python 3"
    },
    "language_info": {
      "name": "python"
    }
  },
  "cells": [
    {
      "cell_type": "markdown",
      "metadata": {
        "id": "view-in-github",
        "colab_type": "text"
      },
      "source": [
        "<a href=\"https://colab.research.google.com/github/ninadnikam/Python-Begninng/blob/main/variables.ipynb\" target=\"_parent\"><img src=\"https://colab.research.google.com/assets/colab-badge.svg\" alt=\"Open In Colab\"/></a>"
      ]
    },
    {
      "cell_type": "code",
      "metadata": {
        "id": "LV97avicPwAW",
        "colab": {
          "base_uri": "https://localhost:8080/"
        },
        "outputId": "afd26f5c-384d-43a1-ed3e-895f57c555dc"
      },
      "source": [
        " #variables\n",
        "\n",
        "a = 10\n",
        "\n",
        "#a is operand\n",
        "#+ is operator\n",
        "#10 is value\n",
        "print(a)\n",
        "\n",
        "a = b = c = 10 #assigned same value to all the variables (multiple variable with single value)\n",
        "print(a,b,c)\n",
        "\n",
        "a,b,c = 1,2,\"future\" #assigned a values to the 3 variables (multiple assignment)\n",
        "print(a,b,c)\n",
        "print(a)\n",
        "print(b)\n",
        "print(c)\n",
        "\n",
        "#as per the variables reserved memory to the value is allocated\n"
      ],
      "execution_count": null,
      "outputs": [
        {
          "output_type": "stream",
          "text": [
            "10\n",
            "10 10 10\n",
            "1 2 future\n",
            "1\n",
            "2\n",
            "future\n"
          ],
          "name": "stdout"
        }
      ]
    },
    {
      "cell_type": "code",
      "metadata": {
        "colab": {
          "base_uri": "https://localhost:8080/"
        },
        "id": "CKPeylVmPTGL",
        "outputId": "29667328-8991-4c83-c18c-c19f35f2afd2"
      },
      "source": [
        "#standard data type\n",
        "\n",
        "#1-number : Store the numeric value\n",
        "\n",
        "#int numerical type\n",
        "a = 10\n",
        "print(a)\n",
        "\n",
        "#float numerical type\n",
        "b= 10.158\n",
        "print(b)\n",
        "\n",
        "#complex no numercial type\n",
        "# a complex number consists of an ordered pair of rel floating point number denoted by x+yj, here x an y is real no and j is imaginary unit\n",
        "c= 3.014j\n",
        "print(c)"
      ],
      "execution_count": 5,
      "outputs": [
        {
          "output_type": "stream",
          "text": [
            "10\n",
            "10.158\n",
            "3.014j\n"
          ],
          "name": "stdout"
        }
      ]
    },
    {
      "cell_type": "code",
      "metadata": {
        "colab": {
          "base_uri": "https://localhost:8080/"
        },
        "id": "xA39awrXRDQj",
        "outputId": "9af78c78-3e26-4226-82ea-0a4a2648b6f0"
      },
      "source": [
        "#2-string\n",
        "#indexing start at 0 (from first char) in the beginning(forward) and indexing backward by -1 (from last char)\n",
        "#subset of string can be taken using the slice operator ([] & [:])\n",
        "\n",
        "a= \"Hello Future\"\n",
        "#   so here the indexing from the 0 means \"H\" indexing is 0 total indexing value is 11 till \"e\"\n",
        "print(a) #print a string\n",
        "print(a[0]) #showing 0th indexing char\n",
        "print(a[10]) #showing 10th indexing char\n",
        "print(a[2:4]) #slicing of the string - 2 means 2nd indexing start char and 4th indexing means to show befor the 4th indexing char i.e l\n",
        "print(a[2:]) #showing the string from 2nd indexing to till end on after slicing it did not given the no\n",
        "print(a * 5) # * (astrisk) is say to show multiple of same variable string as per the no given wise\n",
        "print(a + \" How's you doing?\") # + sign says to concatenate the second word or string with given variable\n",
        "print(a[-1]) # - sing says the last indexing of the string i.e e of (future) it say return, \n",
        "print(a[-4:]) #showig till -4 indexing from -1 indexing char, the right side \":\" decide to show char from last / right to left\n",
        "print(a[:-4]) #showing till -4 indexing from first char left to right\n",
        "print(a[-10:-3]) #showing from -10 index to till befor the -3 indexing char (i.e: llo Fut) left fo right\n",
        "print(a[-5:-10]) #showing no output - because for reverse (from right to left) did not happen\n"
      ],
      "execution_count": 54,
      "outputs": [
        {
          "output_type": "stream",
          "text": [
            "Hello Future\n",
            "H\n",
            "r\n",
            "ll\n",
            "llo Future\n",
            "Hello FutureHello FutureHello FutureHello FutureHello Future\n",
            "Hello Future How's you doing?\n",
            "e\n",
            "ture\n",
            "Hello Fu\n",
            "llo Fut\n",
            "\n"
          ],
          "name": "stdout"
        }
      ]
    },
    {
      "cell_type": "code",
      "metadata": {
        "id": "cQx8TRMAjgh4"
      },
      "source": [
        "#list"
      ],
      "execution_count": null,
      "outputs": []
    },
    {
      "cell_type": "markdown",
      "metadata": {
        "id": "VFEjaz6djn2q"
      },
      "source": [
        ""
      ]
    }
  ]
}