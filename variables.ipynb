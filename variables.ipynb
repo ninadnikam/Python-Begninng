{
  "nbformat": 4,
  "nbformat_minor": 0,
  "metadata": {
    "colab": {
      "name": "variables.ipynb",
      "provenance": [],
      "collapsed_sections": [],
      "authorship_tag": "ABX9TyOfyvyliR6UrlamgCkt5RKj",
      "include_colab_link": true
    },
    "kernelspec": {
      "name": "python3",
      "display_name": "Python 3"
    },
    "language_info": {
      "name": "python"
    }
  },
  "cells": [
    {
      "cell_type": "markdown",
      "metadata": {
        "id": "view-in-github",
        "colab_type": "text"
      },
      "source": [
        "<a href=\"https://colab.research.google.com/github/ninadnikam/Python-Begninng/blob/main/variables.ipynb\" target=\"_parent\"><img src=\"https://colab.research.google.com/assets/colab-badge.svg\" alt=\"Open In Colab\"/></a>"
      ]
    },
    {
      "cell_type": "code",
      "metadata": {
        "id": "LV97avicPwAW",
        "colab": {
          "base_uri": "https://localhost:8080/"
        },
        "outputId": "afd26f5c-384d-43a1-ed3e-895f57c555dc"
      },
      "source": [
        " #variables\n",
        "\n",
        "a = 10\n",
        "\n",
        "#a is operand\n",
        "#+ is operator\n",
        "#10 is value\n",
        "print(a)\n",
        "\n",
        "a = b = c = 10 #assigned same value to all the variables (multiple variable with single value)\n",
        "print(a,b,c)\n",
        "\n",
        "a,b,c = 1,2,\"future\" #assigned a values to the 3 variables (multiple assignment)\n",
        "print(a,b,c)\n",
        "print(a)\n",
        "print(b)\n",
        "print(c)\n",
        "\n",
        "#as per the variables reserved memory to the value is allocated\n"
      ],
      "execution_count": null,
      "outputs": [
        {
          "output_type": "stream",
          "text": [
            "10\n",
            "10 10 10\n",
            "1 2 future\n",
            "1\n",
            "2\n",
            "future\n"
          ],
          "name": "stdout"
        }
      ]
    },
    {
      "cell_type": "code",
      "metadata": {
        "colab": {
          "base_uri": "https://localhost:8080/"
        },
        "id": "CKPeylVmPTGL",
        "outputId": "29667328-8991-4c83-c18c-c19f35f2afd2"
      },
      "source": [
        "#standard data type\n",
        "\n",
        "#1-number : Store the numeric value\n",
        "\n",
        "#int numerical type\n",
        "a = 10\n",
        "print(a)\n",
        "\n",
        "#float numerical type\n",
        "b= 10.158\n",
        "print(b)\n",
        "\n",
        "#complex no numercial type\n",
        "# a complex number consists of an ordered pair of rel floating point number denoted by x+yj, here x an y is real no and j is imaginary unit\n",
        "c= 3.014j\n",
        "print(c)"
      ],
      "execution_count": 5,
      "outputs": [
        {
          "output_type": "stream",
          "text": [
            "10\n",
            "10.158\n",
            "3.014j\n"
          ],
          "name": "stdout"
        }
      ]
    },
    {
      "cell_type": "markdown",
      "metadata": {
        "id": "VFEjaz6djn2q"
      },
      "source": [
        ""
      ]
    }
  ]
}