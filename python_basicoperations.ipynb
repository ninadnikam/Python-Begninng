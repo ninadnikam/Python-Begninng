{
  "nbformat": 4,
  "nbformat_minor": 0,
  "metadata": {
    "colab": {
      "name": "python_basicoperations.ipynb",
      "provenance": [],
      "collapsed_sections": [],
      "authorship_tag": "ABX9TyNPYew2BCoJLwaTGCYkOqRO",
      "include_colab_link": true
    },
    "kernelspec": {
      "name": "python3",
      "display_name": "Python 3"
    },
    "language_info": {
      "name": "python"
    }
  },
  "cells": [
    {
      "cell_type": "markdown",
      "metadata": {
        "id": "view-in-github",
        "colab_type": "text"
      },
      "source": [
        "<a href=\"https://colab.research.google.com/github/ninadnikam/Python-Begninng/blob/main/python_basicoperations.ipynb\" target=\"_parent\"><img src=\"https://colab.research.google.com/assets/colab-badge.svg\" alt=\"Open In Colab\"/></a>"
      ]
    },
    {
      "cell_type": "markdown",
      "metadata": {
        "id": "JUtf9vaM9nhW"
      },
      "source": [
        "The operators are the construct\n",
        "which can manipultate the value of operands\n",
        "\n"
      ]
    },
    {
      "cell_type": "code",
      "metadata": {
        "colab": {
          "base_uri": "https://localhost:8080/"
        },
        "id": "sEeG3GiR9fFd",
        "outputId": "cb12fbb4-3221-493d-d6fe-d9481a81cdae"
      },
      "source": [
        "#1.Arithmetic Operations\n",
        "\n",
        "a = 20\n",
        "b = 30\n",
        "c = 50\n",
        "\n",
        "\n",
        "#addition\n",
        "print(a+b)\n",
        "\n",
        "#subtractin\n",
        "print(a-b)\n",
        "\n",
        "#multiplication\n",
        "print(a*c)\n",
        "\n",
        "#division - divide left hand operand by right hand operand which shows on upside\n",
        "print(c/a) \n",
        "\n",
        "#modules - reminder maenas the remaing answer of divide which shows on downside\n",
        "print(c%a)\n",
        "\n",
        "#exponent - perform exponential (power) calculation on opreation\n",
        "print(2**4) "
      ],
      "execution_count": 4,
      "outputs": [
        {
          "output_type": "stream",
          "text": [
            "50\n",
            "-10\n",
            "1000\n",
            "2.5\n",
            "10\n",
            "16\n"
          ],
          "name": "stdout"
        }
      ]
    },
    {
      "cell_type": "code",
      "metadata": {
        "id": "w8X8wQP1-CtA"
      },
      "source": [
        ""
      ],
      "execution_count": null,
      "outputs": []
    }
  ]
}