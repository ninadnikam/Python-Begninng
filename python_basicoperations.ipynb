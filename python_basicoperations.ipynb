{
  "nbformat": 4,
  "nbformat_minor": 0,
  "metadata": {
    "colab": {
      "name": "python_basicoperations.ipynb",
      "provenance": [],
      "collapsed_sections": [],
      "authorship_tag": "ABX9TyMMSKzTd+8ObFXkMJrX8GUy",
      "include_colab_link": true
    },
    "kernelspec": {
      "name": "python3",
      "display_name": "Python 3"
    },
    "language_info": {
      "name": "python"
    }
  },
  "cells": [
    {
      "cell_type": "markdown",
      "metadata": {
        "id": "view-in-github",
        "colab_type": "text"
      },
      "source": [
        "<a href=\"https://colab.research.google.com/github/ninadnikam/Python-Begninng/blob/main/python_basicoperations.ipynb\" target=\"_parent\"><img src=\"https://colab.research.google.com/assets/colab-badge.svg\" alt=\"Open In Colab\"/></a>"
      ]
    },
    {
      "cell_type": "markdown",
      "metadata": {
        "id": "JUtf9vaM9nhW"
      },
      "source": [
        "The operators are the construct\n",
        "which can manipultate the value of operands\n",
        "\n"
      ]
    },
    {
      "cell_type": "code",
      "metadata": {
        "colab": {
          "base_uri": "https://localhost:8080/"
        },
        "id": "sEeG3GiR9fFd",
        "outputId": "2486627c-b7bf-41c6-b395-b501f253f4a1"
      },
      "source": [
        "#1.Arithmetic Operations\n",
        "\n",
        "a = 20\n",
        "b = 30\n",
        "c = 50\n",
        "\n",
        "\n",
        "#addition\n",
        "print(a+b)\n",
        "\n",
        "#subtractin\n",
        "print(a-b)\n",
        "\n",
        "#multiplication\n",
        "print(a*c)\n",
        "\n",
        "#division - divide left hand operand by right hand operand which shows on upside\n",
        "print(c/a) \n",
        "\n",
        "#modules - reminder maenas the remaing answer of divide which shows on downside\n",
        "print(c%a)\n",
        "\n",
        "#exponent - perform exponential (power) calculation on opreation\n",
        "print(2**4) \n",
        "print(\"------------------------------------------\")\n",
        "\n",
        "#2.comparison operator\n",
        "#the operators compare the value or either side of then and decide the realtion among them and they are also called relational operators\n",
        "a=20\n",
        "b=20\n",
        "c=30\n",
        "\n",
        "print(a==b) #operands are equal then condition becames true\n",
        "print(a!=c) #a is not equal to (same as) c show the condtions \n",
        "print(a>b) #show value the greater or less\n",
        "print(b<a) #show the less value\n",
        "print(c>=a) #greater than equal to\n",
        "print(a<=c) #less than equal to\n",
        "\n",
        "print(\"------------------------------------------\")\n",
        "\n",
        "#3.Assignment operators\n",
        "\n",
        "a=30\n",
        "b=50\n",
        "c=40\n",
        "\n",
        "\n",
        "print(a+b)\n",
        "\n",
        "#c+=a - AND it adds right operand to the left operand and assign the resul to left operand c= c+a\n",
        "#c-=a  ----  c=c-a\n",
        "#c/=a ---- c=c/a\n",
        "#c%=a -----c=c%a\n",
        "#c**=a ---- c =c**a\n",
        "\n",
        "print(\"-----------------------------------------\")\n",
        "\n",
        "#4.bitwise oeprators\n",
        "\n",
        "#bitwise operatores works on bits and perfroms bit-by-bit operations\n",
        "\n"
      ],
      "execution_count": 27,
      "outputs": [
        {
          "output_type": "stream",
          "text": [
            "50\n",
            "-10\n",
            "1000\n",
            "2.5\n",
            "10\n",
            "16\n",
            "------------------------------------------\n",
            "True\n",
            "True\n",
            "False\n",
            "False\n",
            "True\n",
            "True\n",
            "------------------------------------------\n",
            "80\n"
          ],
          "name": "stdout"
        }
      ]
    },
    {
      "cell_type": "code",
      "metadata": {
        "id": "w8X8wQP1-CtA"
      },
      "source": [
        ""
      ],
      "execution_count": null,
      "outputs": []
    }
  ]
}