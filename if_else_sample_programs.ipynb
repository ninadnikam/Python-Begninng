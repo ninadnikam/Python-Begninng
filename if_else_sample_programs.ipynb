{
  "nbformat": 4,
  "nbformat_minor": 0,
  "metadata": {
    "colab": {
      "name": "if_else_sample_programs.ipynb",
      "provenance": [],
      "authorship_tag": "ABX9TyOdwlTGzkG4PsdMbfd2kbOD",
      "include_colab_link": true
    },
    "kernelspec": {
      "name": "python3",
      "display_name": "Python 3"
    },
    "language_info": {
      "name": "python"
    }
  },
  "cells": [
    {
      "cell_type": "markdown",
      "metadata": {
        "id": "view-in-github",
        "colab_type": "text"
      },
      "source": [
        "<a href=\"https://colab.research.google.com/github/ninadnikam/Python-Begninng/blob/main/if_else_sample_programs.ipynb\" target=\"_parent\"><img src=\"https://colab.research.google.com/assets/colab-badge.svg\" alt=\"Open In Colab\"/></a>"
      ]
    },
    {
      "cell_type": "markdown",
      "metadata": {
        "id": "2WcGSv-a7N02"
      },
      "source": [
        "Here are so many sample programs of if else -"
      ]
    },
    {
      "cell_type": "code",
      "metadata": {
        "colab": {
          "base_uri": "https://localhost:8080/"
        },
        "id": "ttBeN3u97HCV",
        "outputId": "47a19a9e-ab38-40e9-ef92-2efb96971173"
      },
      "source": [
        "#1\n",
        "a= 20\n",
        "b= 30\n",
        "if a==b:\n",
        "  print(\"same\")\n",
        "else:\n",
        "  print(\"diff\")"
      ],
      "execution_count": 1,
      "outputs": [
        {
          "output_type": "stream",
          "text": [
            "diff\n"
          ],
          "name": "stdout"
        }
      ]
    }
  ]
}