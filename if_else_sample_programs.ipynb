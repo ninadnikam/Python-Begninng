{
  "nbformat": 4,
  "nbformat_minor": 0,
  "metadata": {
    "colab": {
      "name": "if_else_sample_programs.ipynb",
      "provenance": [],
      "collapsed_sections": [],
      "authorship_tag": "ABX9TyPrKigVbfIhqTEjWZA1OdYh",
      "include_colab_link": true
    },
    "kernelspec": {
      "name": "python3",
      "display_name": "Python 3"
    },
    "language_info": {
      "name": "python"
    }
  },
  "cells": [
    {
      "cell_type": "markdown",
      "metadata": {
        "id": "view-in-github",
        "colab_type": "text"
      },
      "source": [
        "<a href=\"https://colab.research.google.com/github/ninadnikam/Python-Begninng/blob/main/if_else_sample_programs.ipynb\" target=\"_parent\"><img src=\"https://colab.research.google.com/assets/colab-badge.svg\" alt=\"Open In Colab\"/></a>"
      ]
    },
    {
      "cell_type": "markdown",
      "metadata": {
        "id": "2WcGSv-a7N02"
      },
      "source": [
        "Here are so many sample programs of if else -"
      ]
    },
    {
      "cell_type": "code",
      "metadata": {
        "colab": {
          "base_uri": "https://localhost:8080/"
        },
        "id": "ttBeN3u97HCV",
        "outputId": "38da38ba-1d4b-412b-c8f4-a3937dc28aa7"
      },
      "source": [
        "#1\n",
        "a= 20\n",
        "b= 30\n",
        "if a==b:\n",
        "  print(\"same\")\n",
        "else:\n",
        "  print(\"diff\")"
      ],
      "execution_count": null,
      "outputs": [
        {
          "output_type": "stream",
          "text": [
            "diff\n"
          ],
          "name": "stdout"
        }
      ]
    },
    {
      "cell_type": "code",
      "metadata": {
        "colab": {
          "base_uri": "https://localhost:8080/"
        },
        "id": "lk4yfIBB8gGq",
        "outputId": "9b1921ec-f8a0-4378-a28c-5ee75db6be2b"
      },
      "source": [
        "#1\n",
        "a= 20\n",
        "b= 30\n",
        "if a < b:\n",
        "  print(\"same\")\n",
        "else:\n",
        "  print(\"diff\")"
      ],
      "execution_count": null,
      "outputs": [
        {
          "output_type": "stream",
          "text": [
            "same\n"
          ],
          "name": "stdout"
        }
      ]
    }
  ]
}