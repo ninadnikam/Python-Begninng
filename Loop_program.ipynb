{
  "nbformat": 4,
  "nbformat_minor": 0,
  "metadata": {
    "colab": {
      "name": "Loop program.ipynb",
      "provenance": [],
      "collapsed_sections": [],
      "authorship_tag": "ABX9TyMJzpPcbUjWL0760fOzHS7T",
      "include_colab_link": true
    },
    "kernelspec": {
      "name": "python3",
      "display_name": "Python 3"
    },
    "language_info": {
      "name": "python"
    }
  },
  "cells": [
    {
      "cell_type": "markdown",
      "metadata": {
        "id": "view-in-github",
        "colab_type": "text"
      },
      "source": [
        "<a href=\"https://colab.research.google.com/github/ninadnikam/Python-Begninng/blob/main/Loop_program.ipynb\" target=\"_parent\"><img src=\"https://colab.research.google.com/assets/colab-badge.svg\" alt=\"Open In Colab\"/></a>"
      ]
    },
    {
      "cell_type": "code",
      "metadata": {
        "colab": {
          "base_uri": "https://localhost:8080/"
        },
        "id": "FHpNdylj6oZr",
        "outputId": "b194626b-e3aa-4787-d7a1-dd7b45edcabe"
      },
      "source": [
        "tuple = {1,2,3} \n",
        "sum = 0\n",
        "for x in tuple:\n",
        "  sum+= x\n",
        "  print(sum)"
      ],
      "execution_count": 13,
      "outputs": [
        {
          "output_type": "stream",
          "text": [
            "1\n",
            "3\n",
            "6\n"
          ],
          "name": "stdout"
        }
      ]
    },
    {
      "cell_type": "markdown",
      "metadata": {
        "id": "7OIt3vuo96Ix"
      },
      "source": [
        "# **Loop**\n",
        "1. statements are executed sequentially\n",
        "2. first statment in function executed first an  followed by second and soon executed block of code several no of times.\n",
        "3. 3 -types of loop\n",
        "**while loop**\n",
        " repeat statment group of statement while a give condition is true\n",
        "\n",
        " **For loop**\n",
        " execute a sequence of statment multipl time and the code that manage the loop variable\n",
        "\n",
        " **nested loop**\n",
        " you can use one / more loop inside any another"
      ]
    },
    {
      "cell_type": "code",
      "metadata": {
        "colab": {
          "base_uri": "https://localhost:8080/"
        },
        "id": "GwxJEVkj8Qa6",
        "outputId": "ea8cbe07-455d-429a-b01e-982c326d8f6d"
      },
      "source": [
        "#1. while loop\n",
        "# syntax:\n",
        "#  while expression:\n",
        "#    statement\n",
        "\n",
        "count = 0 #intilazation\n",
        "while (count < 9):  #condition\n",
        "  print(\"count is:\",count)\n",
        "  count+=1  #increment always use this assignment method because it take less code and memory\n",
        "  print(count)\n",
        "\n"
      ],
      "execution_count": 15,
      "outputs": [
        {
          "output_type": "stream",
          "text": [
            "count is: 0\n",
            "1\n",
            "count is: 1\n",
            "2\n",
            "count is: 2\n",
            "3\n",
            "count is: 3\n",
            "4\n",
            "count is: 4\n",
            "5\n",
            "count is: 5\n",
            "6\n",
            "count is: 6\n",
            "7\n",
            "count is: 7\n",
            "8\n",
            "count is: 8\n",
            "9\n"
          ],
          "name": "stdout"
        }
      ]
    },
    {
      "cell_type": "code",
      "metadata": {
        "colab": {
          "base_uri": "https://localhost:8080/"
        },
        "id": "PbWdWiJxAnxT",
        "outputId": "a291dd49-aaaa-499e-ab8d-123ead65d99b"
      },
      "source": [
        "#program 2\n",
        "\n",
        "#display the 2 table\n",
        "\n",
        "a = 0  #intialazation\n",
        "while (a < 20): #condition\n",
        "  a+= 2 #increment\n",
        "  print(a)  "
      ],
      "execution_count": 74,
      "outputs": [
        {
          "output_type": "stream",
          "text": [
            "2\n",
            "4\n",
            "6\n",
            "8\n",
            "10\n",
            "12\n",
            "14\n",
            "16\n",
            "18\n",
            "20\n"
          ],
          "name": "stdout"
        }
      ]
    },
    {
      "cell_type": "code",
      "metadata": {
        "colab": {
          "base_uri": "https://localhost:8080/"
        },
        "id": "PjIUi0MwFSck",
        "outputId": "20593d9c-eee8-4d1c-88ce-72eb7a103583"
      },
      "source": [
        "a = int(input(\"Enter the number:\"))\n",
        "b = a * 10\n",
        "\n",
        "c = 0\n",
        "q = 0\n",
        "while (c < b):\n",
        "  c+=a\n",
        "  q+=1\n",
        "  print(a, \"*\", q,\"=\",c)"
      ],
      "execution_count": 85,
      "outputs": [
        {
          "output_type": "stream",
          "text": [
            "Enter the number:37\n",
            "37 * 1 = 37\n",
            "37 * 2 = 74\n",
            "37 * 3 = 111\n",
            "37 * 4 = 148\n",
            "37 * 5 = 185\n",
            "37 * 6 = 222\n",
            "37 * 7 = 259\n",
            "37 * 8 = 296\n",
            "37 * 9 = 333\n",
            "37 * 10 = 370\n"
          ],
          "name": "stdout"
        }
      ]
    },
    {
      "cell_type": "code",
      "metadata": {
        "colab": {
          "base_uri": "https://localhost:8080/"
        },
        "id": "mN09WEhvHyxv",
        "outputId": "2bd7068a-8158-4963-b8ec-833176000a14"
      },
      "source": [
        "#total sum of counts from 1 to n number\n",
        "n = 10\n",
        "sum = 0\n",
        "i = 1\n",
        "\n",
        "while ( i <= n):\n",
        "  sum = sum + i\n",
        "  i= i+1\n",
        "  print(sum)"
      ],
      "execution_count": 100,
      "outputs": [
        {
          "output_type": "stream",
          "text": [
            "1\n",
            "3\n",
            "6\n",
            "10\n",
            "15\n",
            "21\n",
            "28\n",
            "36\n",
            "45\n",
            "55\n"
          ],
          "name": "stdout"
        }
      ]
    },
    {
      "cell_type": "markdown",
      "metadata": {
        "id": "7yqh4a0v8KSa"
      },
      "source": [
        ""
      ]
    }
  ]
}